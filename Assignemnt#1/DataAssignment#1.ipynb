{
 "cells": [
  {
   "cell_type": "code",
   "execution_count": 1,
   "id": "5a3d8a1f",
   "metadata": {},
   "outputs": [
    {
     "name": "stdout",
     "output_type": "stream",
     "text": [
      "Twinkle, twinkle, little star,\n",
      "         How I wonder what you are!\n",
      "                Up above the world so high,\n",
      "                Like a diamond in the sky.\n",
      "Twinkle, twinkle, little star,\n",
      "         How I wonder what you are!\n"
     ]
    }
   ],
   "source": [
    "'''Question#1:\n",
    "Write a Python program to print the following string in a specific format (see the\n",
    "output).\n",
    "Twinkle, twinkle, little star,\n",
    "How I wonder what you are!\n",
    "Up above the world so high,\n",
    "Like a diamond in the sky.\n",
    "Twinkle, twinkle, little star,\n",
    "How I wonder what you are\n",
    "'''\n",
    "\n",
    "print(\"Twinkle, twinkle, little star,\")\n",
    "print(\"         How I wonder what you are!\")\n",
    "print(\"                Up above the world so high,\")\n",
    "print(\"                Like a diamond in the sky.\")\n",
    "print(\"Twinkle, twinkle, little star,\")\n",
    "print(\"         How I wonder what you are!\")\n"
   ]
  },
  {
   "cell_type": "code",
   "execution_count": 2,
   "id": "aee9fe03",
   "metadata": {},
   "outputs": [
    {
     "name": "stdout",
     "output_type": "stream",
     "text": [
      "the python version is3.8.8 (default, Apr 13 2021, 15:08:03) [MSC v.1916 64 bit (AMD64)]\n"
     ]
    }
   ],
   "source": [
    "#Question:2 Write a Python program to get the Python version you are using\n",
    "import sys\n",
    "print (\"the python version is\"+sys.version)\n"
   ]
  },
  {
   "cell_type": "code",
   "execution_count": 4,
   "id": "24b13f63",
   "metadata": {},
   "outputs": [
    {
     "name": "stdout",
     "output_type": "stream",
     "text": [
      "the current date & time is\n",
      "2022-01-02 14:02:28.430019\n"
     ]
    }
   ],
   "source": [
    "#Question 3. Write a Python program to display the current date and time.\n",
    "import datetime\n",
    "print(\"the current date & time is\")\n",
    "print( datetime.datetime.now())\n"
   ]
  },
  {
   "cell_type": "code",
   "execution_count": 5,
   "id": "9194247d",
   "metadata": {},
   "outputs": [
    {
     "name": "stdout",
     "output_type": "stream",
     "text": [
      "enter area2\n",
      "total area is :12.56\n"
     ]
    }
   ],
   "source": [
    "#Question 4. Write a Python program which accepts the radius of a circle from the user and compute the area.\n",
    "rdius=input(\"enter area\")\n",
    "rdius=float(rdius)\n",
    "area=3.14*rdius**2\n",
    "print(\"total area is :\"+ str(area))\n"
   ]
  },
  {
   "cell_type": "code",
   "execution_count": 6,
   "id": "6e1d70f6",
   "metadata": {},
   "outputs": [
    {
     "name": "stdout",
     "output_type": "stream",
     "text": [
      "enter ur first name moid\n",
      "enter ur last name falak\n",
      "Your name in reverse is:falak  moid\n"
     ]
    }
   ],
   "source": [
    "#Question 5. Write a Python program which accepts the user's first and last name and print them inreverse order with a space between them.\n",
    "\n",
    "first =input(\"enter ur first name \")\n",
    "last =input(\"enter ur last name \")\n",
    "print(\"Your name in reverse is:\" +last + '  '+first)"
   ]
  },
  {
   "cell_type": "code",
   "execution_count": 8,
   "id": "041d8652",
   "metadata": {},
   "outputs": [
    {
     "name": "stdout",
     "output_type": "stream",
     "text": [
      "enter first value5\n",
      "enter sec value5\n",
      "addition is: 10\n"
     ]
    }
   ],
   "source": [
    "#Question 6. Write a python program which takes two inputs from user and print them addition\n",
    "val1=int(input(\"enter first value\"))\n",
    "val2=int(input(\"enter sec value\"))\n",
    "add=val1+val2\n",
    "print(\"addition is: \"+str(add))"
   ]
  },
  {
   "cell_type": "code",
   "execution_count": null,
   "id": "13834f22",
   "metadata": {},
   "outputs": [],
   "source": []
  }
 ],
 "metadata": {
  "kernelspec": {
   "display_name": "Python 3",
   "language": "python",
   "name": "python3"
  },
  "language_info": {
   "codemirror_mode": {
    "name": "ipython",
    "version": 3
   },
   "file_extension": ".py",
   "mimetype": "text/x-python",
   "name": "python",
   "nbconvert_exporter": "python",
   "pygments_lexer": "ipython3",
   "version": "3.8.8"
  }
 },
 "nbformat": 4,
 "nbformat_minor": 5
}
